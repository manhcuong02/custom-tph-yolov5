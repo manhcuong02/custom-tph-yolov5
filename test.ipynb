{
 "cells": [
  {
   "cell_type": "code",
   "execution_count": 11,
   "metadata": {},
   "outputs": [
    {
     "name": "stderr",
     "output_type": "stream",
     "text": [
      "Converting VisDrone2019-DET-test-dev: 1610it [00:33, 48.73it/s] \n"
     ]
    }
   ],
   "source": [
    "from utils.general import download, os, Path\n",
    "\n",
    "def visdrone2yolo(dir):\n",
    "    from PIL import Image\n",
    "    from tqdm import tqdm\n",
    "\n",
    "    def convert_box(size, box):\n",
    "        # Convert VisDrone box to YOLO xywh box\n",
    "        dw = 1. / size[0]\n",
    "        dh = 1. / size[1]\n",
    "        return (box[0] + box[2] / 2) * dw, (box[1] + box[3] / 2) * dh, box[2] * dw, box[3] * dh\n",
    "\n",
    "    (dir / 'labels').mkdir(parents=True, exist_ok=True)  # make labels directory\n",
    "    pbar = tqdm((dir / 'annotations').glob('*.txt'), desc=f'Converting {dir}')\n",
    "    for f in pbar:\n",
    "        img_size = Image.open((dir / 'images' / f.name).with_suffix('.jpg')).size\n",
    "        lines = []\n",
    "        with open(f, 'r') as file:  # read annotation.txt\n",
    "            for row in [x.split(',') for x in file.read().strip().splitlines()]:\n",
    "                if row[4] == '0':  # VisDrone 'ignored regions' class 0\n",
    "                    continue\n",
    "                cls = int(row[5]) - 1\n",
    "                box = convert_box(img_size, tuple(map(int, row[:4])))\n",
    "                lines.append(f\"{cls} {' '.join(f'{x:.6f}' for x in box)}\\n\")\n",
    "                with open(str(f).replace(os.sep + 'annotations' + os.sep, os.sep + 'labels' + os.sep), 'w') as fl:\n",
    "                    fl.writelines(lines)  # write label.txt\n",
    "\n",
    "dir = Path() \n",
    "\n",
    "# convert VisDrone annotations to YOLO labels\n",
    "visdrone2yolo(dir / 'VisDrone2019-DET-test-dev')"
   ]
  },
  {
   "cell_type": "code",
   "execution_count": 7,
   "metadata": {},
   "outputs": [],
   "source": []
  },
  {
   "cell_type": "code",
   "execution_count": 8,
   "metadata": {},
   "outputs": [
    {
     "data": {
      "text/plain": [
       "WindowsPath('hihi')"
      ]
     },
     "execution_count": 8,
     "metadata": {},
     "output_type": "execute_result"
    }
   ],
   "source": []
  },
  {
   "cell_type": "code",
   "execution_count": null,
   "metadata": {},
   "outputs": [],
   "source": []
  }
 ],
 "metadata": {
  "kernelspec": {
   "display_name": "venv",
   "language": "python",
   "name": "python3"
  },
  "language_info": {
   "codemirror_mode": {
    "name": "ipython",
    "version": 3
   },
   "file_extension": ".py",
   "mimetype": "text/x-python",
   "name": "python",
   "nbconvert_exporter": "python",
   "pygments_lexer": "ipython3",
   "version": "3.8.10"
  }
 },
 "nbformat": 4,
 "nbformat_minor": 2
}
